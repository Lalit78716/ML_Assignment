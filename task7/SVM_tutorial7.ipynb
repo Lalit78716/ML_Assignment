{
  "nbformat": 4,
  "nbformat_minor": 0,
  "metadata": {
    "colab": {
      "name": "SVM.ipynb",
      "provenance": [],
      "collapsed_sections": []
    },
    "kernelspec": {
      "name": "python3",
      "display_name": "Python 3"
    },
    "language_info": {
      "name": "python"
    }
  },
  "cells": [
    {
      "cell_type": "code",
      "metadata": {
        "id": "l--JEOSoJw42"
      },
      "source": [
        "import numpy as np\n",
        "import matplotlib.pyplot as plt\n",
        "from cvxopt import matrix as cvxopt_matrix\n",
        "from cvxopt import solvers as cvxopt_solvers\n",
        "from sklearn.datasets import make_moons\n",
        "import random\n",
        "random.seed(1)"
      ],
      "execution_count": 39,
      "outputs": []
    },
    {
      "cell_type": "code",
      "metadata": {
        "id": "uQ_TgIYMKker"
      },
      "source": [
        "def kernel(X1,X2,scale=1.0,sigma_f=1.0):\n",
        "  ''' for gaussian kernel'''\n",
        "  sqdist=np.sum(X1**2,1).reshape(-1,1) + np.sum(X2**2,1) - 2*np.dot(X1,X2.T)\n",
        "  return sigma_f**2 * np.exp((-0.5/scale**2)*sqdist)\n",
        "  # ''' for linear kernel'''\n",
        "  # return X1 @ X2.T"
      ],
      "execution_count": 40,
      "outputs": []
    },
    {
      "cell_type": "code",
      "metadata": {
        "id": "pXFYvifdLxeH"
      },
      "source": [
        "def dataSet2():\n",
        "  X,y=make_moons(n_samples=100,noise=0.1)\n",
        "  y=np.where(y==0,-1,y)\n",
        "  y=y.reshape(-1,1)\n",
        "  S=(y>0).squeeze() # where S is the support vector\n",
        "  x_pos=X[S]\n",
        "  x_neg=X[np.invert(S)]\n",
        "  return X,y,x_pos,x_neg\n"
      ],
      "execution_count": 41,
      "outputs": []
    },
    {
      "cell_type": "code",
      "metadata": {
        "id": "4lh3m-y9NDlE"
      },
      "source": [
        "def dualOptimizer(H,m,y):\n",
        "  '''converting the parameters to standard format for the optimizer function cvxopt_solvers.qp(P,q,G,h,A,b)'''\n",
        "  H = H*1.0 # multiply  1.0 converting all the value into float\n",
        "  y = y*1.0\n",
        "  P = cvxopt_matrix(H)\n",
        "  q = cvxopt_matrix(-np.ones((m,1)))\n",
        "  G = cvxopt_matrix(-np.eye(m))\n",
        "  h = cvxopt_matrix(np.zeros(m))\n",
        "  A = cvxopt_matrix(y.reshape(1,-1))\n",
        "  b = cvxopt_matrix(np.zeros(1))\n",
        "\n",
        "  # setting solver parameters (change default to decrease tolerance)\n",
        "  cvxopt_solvers.options['show_progress']=False\n",
        "  cvxopt_solvers.options['abstol']=1e-10\n",
        "  cvxopt_solvers.options['reltol']=1e-10\n",
        "  cvxopt_solvers.options['feastol']=1e-10\n",
        "\n",
        "  # run the solver\n",
        "  sol = cvxopt_solvers.qp(P,q,G,h,A,b)\n",
        "  alphas=np.array(sol['x'])\n",
        "  return alphas"
      ],
      "execution_count": 42,
      "outputs": []
    },
    {
      "cell_type": "code",
      "metadata": {
        "id": "AALzT1Q5MAIR"
      },
      "source": [
        "def pred(y,a,X,p,b):\n",
        "  k=kernel(X,p)\n",
        "  return (y * a).T @ k + b"
      ],
      "execution_count": 43,
      "outputs": []
    },
    {
      "cell_type": "code",
      "metadata": {
        "id": "ihwhcnqcNJM_"
      },
      "source": [
        "def predb(y,a,X,p):\n",
        "  k=kernel(X,p)\n",
        "  xc=(y*a).T @ k\n",
        "  print(k.shape,xc.shape)\n",
        "  return np.average(y.T - xc)"
      ],
      "execution_count": 44,
      "outputs": []
    },
    {
      "cell_type": "code",
      "metadata": {
        "id": "k0cKvuL8PHnw",
        "colab": {
          "base_uri": "https://localhost:8080/",
          "height": 50
        },
        "outputId": "94dd30f8-48c7-4c6f-935b-6632540b4fd9"
      },
      "source": [
        "''' Implementation of SVM hard margin'''\n",
        "''' converting second term of dual objective function into standard form , a.T*H*a for the optimizer'''\n",
        "X,y,x_pos,x_neg=dataSet2()\n",
        "k=kernel(X,X)\n",
        "t=np.dot(y,y.T)\n",
        "H=k*t;\n",
        "m,n=X.shape\n",
        "\n",
        "alphas=dualOptimizer(H,m,y)\n",
        "\n",
        "# selecting the set of indices S corresponding to non-zero parameters\n",
        "S = (alphas > 1e-4).flatten()\n",
        "\n",
        "w = ((y[S]*alphas[S]).T @ X[S]).reshape(-1,1)\n",
        "#computing b value\n",
        "b=predb(y[S],alphas[S],X[S],X[S])\n",
        "\n",
        "#display result\n",
        "# print('Alphas: -',alphas,'\\n Support vectors : ',S.reshape(-1,1))\n",
        "# print('Alphas for Support vectors = ',alphas[alphas > 1e-4])\n",
        "# print('w = ',w.flatten())\n",
        "# print('b = ',b)\n",
        "\n",
        "fig = plt.figure(figsize = (10,10))\n",
        "\n",
        "# prediction for p matrix\n",
        "x0,x1=np.meshgrid(np.linspace(-2,2,100),np.linspace(-2,2,100))\n",
        "p=np.array([x0,x1]).reshape(2,-1).T\n",
        "pr=pred(y[S],alphas[S],X[S],p,b)\n"
      ],
      "execution_count": 45,
      "outputs": [
        {
          "output_type": "stream",
          "text": [
            "(6, 6) (1, 6)\n"
          ],
          "name": "stdout"
        },
        {
          "output_type": "display_data",
          "data": {
            "text/plain": [
              "<Figure size 720x720 with 0 Axes>"
            ]
          },
          "metadata": {
            "tags": []
          }
        }
      ]
    },
    {
      "cell_type": "code",
      "metadata": {
        "id": "ZnDHcUJQYx7Z",
        "colab": {
          "base_uri": "https://localhost:8080/",
          "height": 286
        },
        "outputId": "c1993244-2839-46d2-96e6-8d19117f9d6c"
      },
      "source": [
        "# margin hyperplanes\n",
        "plt.scatter(x_neg[:,0],x_neg[:,1],marker='x',color='r',label='Negative -1')\n",
        "plt.scatter(x_pos[:,0],x_pos[:,1],marker='o',color='b',label='Posative +1')\n",
        "# contour is a level curve\n",
        "cp=plt.contour(x0,x1,pred(y[S],alphas[S],X[S],p,b).reshape(100,100),np.array([-1,0,1]))\n",
        "plt.clabel(cp,fmt='y=%.f',inline=True,fontsize=15)"
      ],
      "execution_count": 46,
      "outputs": [
        {
          "output_type": "execute_result",
          "data": {
            "text/plain": [
              "<a list of 3 text.Text objects>"
            ]
          },
          "metadata": {
            "tags": []
          },
          "execution_count": 46
        },
        {
          "output_type": "display_data",
          "data": {
            "image/png": "[encoded data removed]",
            "text/plain": [
              "<Figure size 432x288 with 1 Axes>"
            ]
          },
          "metadata": {
            "tags": [],
            "needs_background": "light"
          }
        }
      ]
    },
    {
      "cell_type": "code",
      "metadata": {
        "colab": {
          "base_uri": "https://localhost:8080/",
          "height": 34
        },
        "id": "yHa-vN-cPxA3",
        "outputId": "3f02301f-cd9b-4257-a1c9-c9fe709098cd"
      },
      "source": [
        "plt.savefig('svm.jpg')"
      ],
      "execution_count": 47,
      "outputs": [
        {
          "output_type": "display_data",
          "data": {
            "text/plain": [
              "<Figure size 432x288 with 0 Axes>"
            ]
          },
          "metadata": {
            "tags": []
          }
        }
      ]
    },
    {
      "cell_type": "code",
      "metadata": {
        "id": "rmttkGSpSlR5"
      },
      "source": [
        ""
      ],
      "execution_count": null,
      "outputs": []
    }
  ]
}